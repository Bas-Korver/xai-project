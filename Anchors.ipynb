{
  "cells": [
    {
      "cell_type": "markdown",
      "metadata": {
        "id": "6GFdiAa0IMiD"
      },
      "source": [
        "# Model creation"
      ]
    },
    {
      "cell_type": "code",
      "execution_count": null,
      "metadata": {
        "id": "0yBKWMDrIMiG"
      },
      "outputs": [],
      "source": [
        "import pandas as pd\n",
        "from sklearn.tree import DecisionTreeClassifier\n",
        "from sklearn.neighbors import KNeighborsClassifier\n",
        "from sklearn.ensemble import RandomForestClassifier\n",
        "from sklearn.model_selection import train_test_split\n",
        "from sklearn.metrics import accuracy_score, precision_score, recall_score, f1_score"
      ]
    },
    {
      "cell_type": "markdown",
      "metadata": {
        "id": "Gum1gtzaIMiH"
      },
      "source": [
        "## Dataset"
      ]
    },
    {
      "cell_type": "code",
      "execution_count": null,
      "metadata": {
        "colab": {
          "base_uri": "https://localhost:8080/",
          "height": 238
        },
        "id": "5xbJnzT-IMiH",
        "outputId": "fcd510ae-443d-4967-d3e7-f5c7567f0170"
      },
      "outputs": [
        {
          "output_type": "execute_result",
          "data": {
            "text/plain": [
              "   idx  N-Score  E-Score  O-Score  A-Score  C-Score  Impusiveness  \\\n",
              "0    1  0.31287 -0.57545 -0.58331 -0.91699 -0.00665      -0.21712   \n",
              "1    2 -0.67825  1.93886  1.43533  0.76096 -0.14277      -0.71126   \n",
              "2    3 -0.46725  0.80523 -0.84732 -1.62090 -1.01450      -1.37983   \n",
              "3    4 -0.14882 -0.80615 -0.01928  0.59042  0.58489      -1.37983   \n",
              "4    5  0.73545 -1.63340 -0.45174 -0.30172  1.30612      -0.21712   \n",
              "\n",
              "   Sensation seeking  Amphet  Benzo  Cannabis  Heroin  Ketamine  Methadone  \\\n",
              "0           -1.18084       0      0         0       0         0          0   \n",
              "1           -0.21575       0      0         0       0         0          0   \n",
              "2            0.40148       0      0         0       0         0          0   \n",
              "3           -1.18084       0      0         0       0         0          0   \n",
              "4           -0.21575       0      0         0       0         0          0   \n",
              "\n",
              "   Semeron  \n",
              "0        0  \n",
              "1        0  \n",
              "2        0  \n",
              "3        0  \n",
              "4        0  "
            ],
            "text/html": [
              "\n",
              "  <div id=\"df-53647885-21c3-4d7e-8c2f-8a08f2e79cfc\" class=\"colab-df-container\">\n",
              "    <div>\n",
              "<style scoped>\n",
              "    .dataframe tbody tr th:only-of-type {\n",
              "        vertical-align: middle;\n",
              "    }\n",
              "\n",
              "    .dataframe tbody tr th {\n",
              "        vertical-align: top;\n",
              "    }\n",
              "\n",
              "    .dataframe thead th {\n",
              "        text-align: right;\n",
              "    }\n",
              "</style>\n",
              "<table border=\"1\" class=\"dataframe\">\n",
              "  <thead>\n",
              "    <tr style=\"text-align: right;\">\n",
              "      <th></th>\n",
              "      <th>idx</th>\n",
              "      <th>N-Score</th>\n",
              "      <th>E-Score</th>\n",
              "      <th>O-Score</th>\n",
              "      <th>A-Score</th>\n",
              "      <th>C-Score</th>\n",
              "      <th>Impusiveness</th>\n",
              "      <th>Sensation seeking</th>\n",
              "      <th>Amphet</th>\n",
              "      <th>Benzo</th>\n",
              "      <th>Cannabis</th>\n",
              "      <th>Heroin</th>\n",
              "      <th>Ketamine</th>\n",
              "      <th>Methadone</th>\n",
              "      <th>Semeron</th>\n",
              "    </tr>\n",
              "  </thead>\n",
              "  <tbody>\n",
              "    <tr>\n",
              "      <th>0</th>\n",
              "      <td>1</td>\n",
              "      <td>0.31287</td>\n",
              "      <td>-0.57545</td>\n",
              "      <td>-0.58331</td>\n",
              "      <td>-0.91699</td>\n",
              "      <td>-0.00665</td>\n",
              "      <td>-0.21712</td>\n",
              "      <td>-1.18084</td>\n",
              "      <td>0</td>\n",
              "      <td>0</td>\n",
              "      <td>0</td>\n",
              "      <td>0</td>\n",
              "      <td>0</td>\n",
              "      <td>0</td>\n",
              "      <td>0</td>\n",
              "    </tr>\n",
              "    <tr>\n",
              "      <th>1</th>\n",
              "      <td>2</td>\n",
              "      <td>-0.67825</td>\n",
              "      <td>1.93886</td>\n",
              "      <td>1.43533</td>\n",
              "      <td>0.76096</td>\n",
              "      <td>-0.14277</td>\n",
              "      <td>-0.71126</td>\n",
              "      <td>-0.21575</td>\n",
              "      <td>0</td>\n",
              "      <td>0</td>\n",
              "      <td>0</td>\n",
              "      <td>0</td>\n",
              "      <td>0</td>\n",
              "      <td>0</td>\n",
              "      <td>0</td>\n",
              "    </tr>\n",
              "    <tr>\n",
              "      <th>2</th>\n",
              "      <td>3</td>\n",
              "      <td>-0.46725</td>\n",
              "      <td>0.80523</td>\n",
              "      <td>-0.84732</td>\n",
              "      <td>-1.62090</td>\n",
              "      <td>-1.01450</td>\n",
              "      <td>-1.37983</td>\n",
              "      <td>0.40148</td>\n",
              "      <td>0</td>\n",
              "      <td>0</td>\n",
              "      <td>0</td>\n",
              "      <td>0</td>\n",
              "      <td>0</td>\n",
              "      <td>0</td>\n",
              "      <td>0</td>\n",
              "    </tr>\n",
              "    <tr>\n",
              "      <th>3</th>\n",
              "      <td>4</td>\n",
              "      <td>-0.14882</td>\n",
              "      <td>-0.80615</td>\n",
              "      <td>-0.01928</td>\n",
              "      <td>0.59042</td>\n",
              "      <td>0.58489</td>\n",
              "      <td>-1.37983</td>\n",
              "      <td>-1.18084</td>\n",
              "      <td>0</td>\n",
              "      <td>0</td>\n",
              "      <td>0</td>\n",
              "      <td>0</td>\n",
              "      <td>0</td>\n",
              "      <td>0</td>\n",
              "      <td>0</td>\n",
              "    </tr>\n",
              "    <tr>\n",
              "      <th>4</th>\n",
              "      <td>5</td>\n",
              "      <td>0.73545</td>\n",
              "      <td>-1.63340</td>\n",
              "      <td>-0.45174</td>\n",
              "      <td>-0.30172</td>\n",
              "      <td>1.30612</td>\n",
              "      <td>-0.21712</td>\n",
              "      <td>-0.21575</td>\n",
              "      <td>0</td>\n",
              "      <td>0</td>\n",
              "      <td>0</td>\n",
              "      <td>0</td>\n",
              "      <td>0</td>\n",
              "      <td>0</td>\n",
              "      <td>0</td>\n",
              "    </tr>\n",
              "  </tbody>\n",
              "</table>\n",
              "</div>\n",
              "    <div class=\"colab-df-buttons\">\n",
              "\n",
              "  <div class=\"colab-df-container\">\n",
              "    <button class=\"colab-df-convert\" onclick=\"convertToInteractive('df-53647885-21c3-4d7e-8c2f-8a08f2e79cfc')\"\n",
              "            title=\"Convert this dataframe to an interactive table.\"\n",
              "            style=\"display:none;\">\n",
              "\n",
              "  <svg xmlns=\"http://www.w3.org/2000/svg\" height=\"24px\" viewBox=\"0 -960 960 960\">\n",
              "    <path d=\"M120-120v-720h720v720H120Zm60-500h600v-160H180v160Zm220 220h160v-160H400v160Zm0 220h160v-160H400v160ZM180-400h160v-160H180v160Zm440 0h160v-160H620v160ZM180-180h160v-160H180v160Zm440 0h160v-160H620v160Z\"/>\n",
              "  </svg>\n",
              "    </button>\n",
              "\n",
              "  <style>\n",
              "    .colab-df-container {\n",
              "      display:flex;\n",
              "      gap: 12px;\n",
              "    }\n",
              "\n",
              "    .colab-df-convert {\n",
              "      background-color: #E8F0FE;\n",
              "      border: none;\n",
              "      border-radius: 50%;\n",
              "      cursor: pointer;\n",
              "      display: none;\n",
              "      fill: #1967D2;\n",
              "      height: 32px;\n",
              "      padding: 0 0 0 0;\n",
              "      width: 32px;\n",
              "    }\n",
              "\n",
              "    .colab-df-convert:hover {\n",
              "      background-color: #E2EBFA;\n",
              "      box-shadow: 0px 1px 2px rgba(60, 64, 67, 0.3), 0px 1px 3px 1px rgba(60, 64, 67, 0.15);\n",
              "      fill: #174EA6;\n",
              "    }\n",
              "\n",
              "    .colab-df-buttons div {\n",
              "      margin-bottom: 4px;\n",
              "    }\n",
              "\n",
              "    [theme=dark] .colab-df-convert {\n",
              "      background-color: #3B4455;\n",
              "      fill: #D2E3FC;\n",
              "    }\n",
              "\n",
              "    [theme=dark] .colab-df-convert:hover {\n",
              "      background-color: #434B5C;\n",
              "      box-shadow: 0px 1px 3px 1px rgba(0, 0, 0, 0.15);\n",
              "      filter: drop-shadow(0px 1px 2px rgba(0, 0, 0, 0.3));\n",
              "      fill: #FFFFFF;\n",
              "    }\n",
              "  </style>\n",
              "\n",
              "    <script>\n",
              "      const buttonEl =\n",
              "        document.querySelector('#df-53647885-21c3-4d7e-8c2f-8a08f2e79cfc button.colab-df-convert');\n",
              "      buttonEl.style.display =\n",
              "        google.colab.kernel.accessAllowed ? 'block' : 'none';\n",
              "\n",
              "      async function convertToInteractive(key) {\n",
              "        const element = document.querySelector('#df-53647885-21c3-4d7e-8c2f-8a08f2e79cfc');\n",
              "        const dataTable =\n",
              "          await google.colab.kernel.invokeFunction('convertToInteractive',\n",
              "                                                    [key], {});\n",
              "        if (!dataTable) return;\n",
              "\n",
              "        const docLinkHtml = 'Like what you see? Visit the ' +\n",
              "          '<a target=\"_blank\" href=https://colab.research.google.com/notebooks/data_table.ipynb>data table notebook</a>'\n",
              "          + ' to learn more about interactive tables.';\n",
              "        element.innerHTML = '';\n",
              "        dataTable['output_type'] = 'display_data';\n",
              "        await google.colab.output.renderOutput(dataTable, element);\n",
              "        const docLink = document.createElement('div');\n",
              "        docLink.innerHTML = docLinkHtml;\n",
              "        element.appendChild(docLink);\n",
              "      }\n",
              "    </script>\n",
              "  </div>\n",
              "\n",
              "\n",
              "<div id=\"df-39aaf7fb-5174-4f5a-8fb8-081af5920f38\">\n",
              "  <button class=\"colab-df-quickchart\" onclick=\"quickchart('df-39aaf7fb-5174-4f5a-8fb8-081af5920f38')\"\n",
              "            title=\"Suggest charts\"\n",
              "            style=\"display:none;\">\n",
              "\n",
              "<svg xmlns=\"http://www.w3.org/2000/svg\" height=\"24px\"viewBox=\"0 0 24 24\"\n",
              "     width=\"24px\">\n",
              "    <g>\n",
              "        <path d=\"M19 3H5c-1.1 0-2 .9-2 2v14c0 1.1.9 2 2 2h14c1.1 0 2-.9 2-2V5c0-1.1-.9-2-2-2zM9 17H7v-7h2v7zm4 0h-2V7h2v10zm4 0h-2v-4h2v4z\"/>\n",
              "    </g>\n",
              "</svg>\n",
              "  </button>\n",
              "\n",
              "<style>\n",
              "  .colab-df-quickchart {\n",
              "      --bg-color: #E8F0FE;\n",
              "      --fill-color: #1967D2;\n",
              "      --hover-bg-color: #E2EBFA;\n",
              "      --hover-fill-color: #174EA6;\n",
              "      --disabled-fill-color: #AAA;\n",
              "      --disabled-bg-color: #DDD;\n",
              "  }\n",
              "\n",
              "  [theme=dark] .colab-df-quickchart {\n",
              "      --bg-color: #3B4455;\n",
              "      --fill-color: #D2E3FC;\n",
              "      --hover-bg-color: #434B5C;\n",
              "      --hover-fill-color: #FFFFFF;\n",
              "      --disabled-bg-color: #3B4455;\n",
              "      --disabled-fill-color: #666;\n",
              "  }\n",
              "\n",
              "  .colab-df-quickchart {\n",
              "    background-color: var(--bg-color);\n",
              "    border: none;\n",
              "    border-radius: 50%;\n",
              "    cursor: pointer;\n",
              "    display: none;\n",
              "    fill: var(--fill-color);\n",
              "    height: 32px;\n",
              "    padding: 0;\n",
              "    width: 32px;\n",
              "  }\n",
              "\n",
              "  .colab-df-quickchart:hover {\n",
              "    background-color: var(--hover-bg-color);\n",
              "    box-shadow: 0 1px 2px rgba(60, 64, 67, 0.3), 0 1px 3px 1px rgba(60, 64, 67, 0.15);\n",
              "    fill: var(--button-hover-fill-color);\n",
              "  }\n",
              "\n",
              "  .colab-df-quickchart-complete:disabled,\n",
              "  .colab-df-quickchart-complete:disabled:hover {\n",
              "    background-color: var(--disabled-bg-color);\n",
              "    fill: var(--disabled-fill-color);\n",
              "    box-shadow: none;\n",
              "  }\n",
              "\n",
              "  .colab-df-spinner {\n",
              "    border: 2px solid var(--fill-color);\n",
              "    border-color: transparent;\n",
              "    border-bottom-color: var(--fill-color);\n",
              "    animation:\n",
              "      spin 1s steps(1) infinite;\n",
              "  }\n",
              "\n",
              "  @keyframes spin {\n",
              "    0% {\n",
              "      border-color: transparent;\n",
              "      border-bottom-color: var(--fill-color);\n",
              "      border-left-color: var(--fill-color);\n",
              "    }\n",
              "    20% {\n",
              "      border-color: transparent;\n",
              "      border-left-color: var(--fill-color);\n",
              "      border-top-color: var(--fill-color);\n",
              "    }\n",
              "    30% {\n",
              "      border-color: transparent;\n",
              "      border-left-color: var(--fill-color);\n",
              "      border-top-color: var(--fill-color);\n",
              "      border-right-color: var(--fill-color);\n",
              "    }\n",
              "    40% {\n",
              "      border-color: transparent;\n",
              "      border-right-color: var(--fill-color);\n",
              "      border-top-color: var(--fill-color);\n",
              "    }\n",
              "    60% {\n",
              "      border-color: transparent;\n",
              "      border-right-color: var(--fill-color);\n",
              "    }\n",
              "    80% {\n",
              "      border-color: transparent;\n",
              "      border-right-color: var(--fill-color);\n",
              "      border-bottom-color: var(--fill-color);\n",
              "    }\n",
              "    90% {\n",
              "      border-color: transparent;\n",
              "      border-bottom-color: var(--fill-color);\n",
              "    }\n",
              "  }\n",
              "</style>\n",
              "\n",
              "  <script>\n",
              "    async function quickchart(key) {\n",
              "      const quickchartButtonEl =\n",
              "        document.querySelector('#' + key + ' button');\n",
              "      quickchartButtonEl.disabled = true;  // To prevent multiple clicks.\n",
              "      quickchartButtonEl.classList.add('colab-df-spinner');\n",
              "      try {\n",
              "        const charts = await google.colab.kernel.invokeFunction(\n",
              "            'suggestCharts', [key], {});\n",
              "      } catch (error) {\n",
              "        console.error('Error during call to suggestCharts:', error);\n",
              "      }\n",
              "      quickchartButtonEl.classList.remove('colab-df-spinner');\n",
              "      quickchartButtonEl.classList.add('colab-df-quickchart-complete');\n",
              "    }\n",
              "    (() => {\n",
              "      let quickchartButtonEl =\n",
              "        document.querySelector('#df-39aaf7fb-5174-4f5a-8fb8-081af5920f38 button');\n",
              "      quickchartButtonEl.style.display =\n",
              "        google.colab.kernel.accessAllowed ? 'block' : 'none';\n",
              "    })();\n",
              "  </script>\n",
              "</div>\n",
              "    </div>\n",
              "  </div>\n"
            ],
            "application/vnd.google.colaboratory.intrinsic+json": {
              "type": "dataframe",
              "variable_name": "df",
              "summary": "{\n  \"name\": \"df\",\n  \"rows\": 1885,\n  \"fields\": [\n    {\n      \"column\": \"idx\",\n      \"properties\": {\n        \"dtype\": \"number\",\n        \"std\": 545,\n        \"min\": 1,\n        \"max\": 1888,\n        \"num_unique_values\": 1885,\n        \"samples\": [\n          310,\n          385,\n          465\n        ],\n        \"semantic_type\": \"\",\n        \"description\": \"\"\n      }\n    },\n    {\n      \"column\": \"N-Score\",\n      \"properties\": {\n        \"dtype\": \"number\",\n        \"std\": 0.9981059358473481,\n        \"min\": -3.46436,\n        \"max\": 3.27393,\n        \"num_unique_values\": 49,\n        \"samples\": [\n          -1.55078,\n          -2.75696,\n          -3.15735\n        ],\n        \"semantic_type\": \"\",\n        \"description\": \"\"\n      }\n    },\n    {\n      \"column\": \"E-Score\",\n      \"properties\": {\n        \"dtype\": \"number\",\n        \"std\": 0.9974484946397126,\n        \"min\": -3.27393,\n        \"max\": 3.27393,\n        \"num_unique_values\": 42,\n        \"samples\": [\n          -0.69509,\n          -0.15487,\n          0.00332\n        ],\n        \"semantic_type\": \"\",\n        \"description\": \"\"\n      }\n    },\n    {\n      \"column\": \"O-Score\",\n      \"properties\": {\n        \"dtype\": \"number\",\n        \"std\": 0.9962285537660901,\n        \"min\": -3.27393,\n        \"max\": 2.90161,\n        \"num_unique_values\": 35,\n        \"samples\": [\n          -2.8595,\n          -0.17779,\n          -1.97495\n        ],\n        \"semantic_type\": \"\",\n        \"description\": \"\"\n      }\n    },\n    {\n      \"column\": \"A-Score\",\n      \"properties\": {\n        \"dtype\": \"number\",\n        \"std\": 0.9974404928094333,\n        \"min\": -3.46436,\n        \"max\": 3.46436,\n        \"num_unique_values\": 41,\n        \"samples\": [\n          -1.21213,\n          1.61108,\n          0.94156\n        ],\n        \"semantic_type\": \"\",\n        \"description\": \"\"\n      }\n    },\n    {\n      \"column\": \"C-Score\",\n      \"properties\": {\n        \"dtype\": \"number\",\n        \"std\": 0.9975226271655743,\n        \"min\": -3.46436,\n        \"max\": 3.46436,\n        \"num_unique_values\": 41,\n        \"samples\": [\n          -1.92173,\n          0.7583,\n          0.12331\n        ],\n        \"semantic_type\": \"\",\n        \"description\": \"\"\n      }\n    },\n    {\n      \"column\": \"Impusiveness\",\n      \"properties\": {\n        \"dtype\": \"number\",\n        \"std\": 0.9544345111747234,\n        \"min\": -2.55524,\n        \"max\": 2.90161,\n        \"num_unique_values\": 10,\n        \"samples\": [\n          0.88113,\n          -0.71126,\n          1.29221\n        ],\n        \"semantic_type\": \"\",\n        \"description\": \"\"\n      }\n    },\n    {\n      \"column\": \"Sensation seeking\",\n      \"properties\": {\n        \"dtype\": \"number\",\n        \"std\": 0.9637011589526342,\n        \"min\": -2.07848,\n        \"max\": 1.92173,\n        \"num_unique_values\": 11,\n        \"samples\": [\n          -0.52593,\n          -1.18084,\n          -2.07848\n        ],\n        \"semantic_type\": \"\",\n        \"description\": \"\"\n      }\n    },\n    {\n      \"column\": \"Amphet\",\n      \"properties\": {\n        \"dtype\": \"number\",\n        \"std\": 0,\n        \"min\": 0,\n        \"max\": 1,\n        \"num_unique_values\": 2,\n        \"samples\": [\n          1,\n          0\n        ],\n        \"semantic_type\": \"\",\n        \"description\": \"\"\n      }\n    },\n    {\n      \"column\": \"Benzo\",\n      \"properties\": {\n        \"dtype\": \"number\",\n        \"std\": 0,\n        \"min\": 0,\n        \"max\": 1,\n        \"num_unique_values\": 2,\n        \"samples\": [\n          1,\n          0\n        ],\n        \"semantic_type\": \"\",\n        \"description\": \"\"\n      }\n    },\n    {\n      \"column\": \"Cannabis\",\n      \"properties\": {\n        \"dtype\": \"number\",\n        \"std\": 0,\n        \"min\": 0,\n        \"max\": 1,\n        \"num_unique_values\": 2,\n        \"samples\": [\n          1,\n          0\n        ],\n        \"semantic_type\": \"\",\n        \"description\": \"\"\n      }\n    },\n    {\n      \"column\": \"Heroin\",\n      \"properties\": {\n        \"dtype\": \"number\",\n        \"std\": 0,\n        \"min\": 0,\n        \"max\": 1,\n        \"num_unique_values\": 2,\n        \"samples\": [\n          1,\n          0\n        ],\n        \"semantic_type\": \"\",\n        \"description\": \"\"\n      }\n    },\n    {\n      \"column\": \"Ketamine\",\n      \"properties\": {\n        \"dtype\": \"number\",\n        \"std\": 0,\n        \"min\": 0,\n        \"max\": 1,\n        \"num_unique_values\": 2,\n        \"samples\": [\n          1,\n          0\n        ],\n        \"semantic_type\": \"\",\n        \"description\": \"\"\n      }\n    },\n    {\n      \"column\": \"Methadone\",\n      \"properties\": {\n        \"dtype\": \"number\",\n        \"std\": 0,\n        \"min\": 0,\n        \"max\": 1,\n        \"num_unique_values\": 2,\n        \"samples\": [\n          1,\n          0\n        ],\n        \"semantic_type\": \"\",\n        \"description\": \"\"\n      }\n    },\n    {\n      \"column\": \"Semeron\",\n      \"properties\": {\n        \"dtype\": \"number\",\n        \"std\": 0,\n        \"min\": 0,\n        \"max\": 1,\n        \"num_unique_values\": 2,\n        \"samples\": [\n          1,\n          0\n        ],\n        \"semantic_type\": \"\",\n        \"description\": \"\"\n      }\n    }\n  ]\n}"
            }
          },
          "metadata": {},
          "execution_count": 5
        }
      ],
      "source": [
        "df = pd.read_csv(\n",
        "    \"drug_consumption_2.txt\",\n",
        "    header=None,\n",
        "    names=[\n",
        "        \"idx\",\n",
        "        \"N-Score\",\n",
        "        \"E-Score\",\n",
        "        \"O-Score\",\n",
        "        \"A-Score\",\n",
        "        \"C-Score\",\n",
        "        \"Impusiveness\",\n",
        "        \"Sensation seeking\",\n",
        "        \"Amphet\",\n",
        "        \"Benzo\",\n",
        "        \"Cannabis\",\n",
        "        \"Heroin\",\n",
        "        \"Ketamine\",\n",
        "        \"Methadone\",\n",
        "        \"Semeron\",\n",
        "    ],\n",
        ")\n",
        "\n",
        "df.head()"
      ]
    },
    {
      "cell_type": "markdown",
      "metadata": {
        "id": "0bZ_EfCuIMiI"
      },
      "source": [
        "## Decision Tree"
      ]
    },
    {
      "cell_type": "code",
      "execution_count": null,
      "metadata": {
        "colab": {
          "base_uri": "https://localhost:8080/"
        },
        "id": "Qm8Zq6rWIMiJ",
        "outputId": "f9e8f0e7-fdea-4480-8812-8fa37fffcb0c"
      },
      "outputs": [
        {
          "output_type": "stream",
          "name": "stderr",
          "text": [
            "/usr/local/lib/python3.10/dist-packages/sklearn/metrics/_classification.py:1344: UndefinedMetricWarning: Precision is ill-defined and being set to 0.0 due to no predicted samples. Use `zero_division` parameter to control this behavior.\n",
            "  _warn_prf(average, modifier, msg_start, len(result))\n"
          ]
        },
        {
          "output_type": "execute_result",
          "data": {
            "text/plain": [
              "({'Amphet': DecisionTreeClassifier(),\n",
              "  'Benzo': DecisionTreeClassifier(),\n",
              "  'Cannabis': DecisionTreeClassifier(),\n",
              "  'Heroin': DecisionTreeClassifier(),\n",
              "  'Ketamine': DecisionTreeClassifier(),\n",
              "  'Methadone': DecisionTreeClassifier(),\n",
              "  'Semeron': DecisionTreeClassifier()},\n",
              " {'Amphet': {'accuracy': 0.896551724137931,\n",
              "   'precision': 0.047619047619047616,\n",
              "   'recall': 0.05,\n",
              "   'f1_score': 0.04878048780487805},\n",
              "  'Benzo': {'accuracy': 0.8992042440318302,\n",
              "   'precision': 0.08695652173913043,\n",
              "   'recall': 0.10526315789473684,\n",
              "   'f1_score': 0.09523809523809525},\n",
              "  'Cannabis': {'accuracy': 0.623342175066313,\n",
              "   'precision': 0.2975206611570248,\n",
              "   'recall': 0.3870967741935484,\n",
              "   'f1_score': 0.3364485981308411},\n",
              "  'Heroin': {'accuracy': 0.9655172413793104,\n",
              "   'precision': 0.0,\n",
              "   'recall': 0.0,\n",
              "   'f1_score': 0.0},\n",
              "  'Ketamine': {'accuracy': 0.9973474801061007,\n",
              "   'precision': 0.0,\n",
              "   'recall': 0.0,\n",
              "   'f1_score': 0.0},\n",
              "  'Methadone': {'accuracy': 0.9018567639257294,\n",
              "   'precision': 0.10714285714285714,\n",
              "   'recall': 0.2,\n",
              "   'f1_score': 0.13953488372093023},\n",
              "  'Semeron': {'accuracy': 0.9893899204244032,\n",
              "   'precision': 0.0,\n",
              "   'recall': 0.0,\n",
              "   'f1_score': 0.0}})"
            ]
          },
          "metadata": {},
          "execution_count": 7
        }
      ],
      "source": [
        "models = {}\n",
        "metrics = {}\n",
        "\n",
        "for target in df.iloc[:, 8:15].columns:\n",
        "    # Get train and test data splits, stratisfy for target.\n",
        "    target_train_df, target_test_df = train_test_split(\n",
        "        df, train_size=0.8, shuffle=True, stratify=df[target], random_state=0\n",
        "    )\n",
        "\n",
        "    # Get input and target from the data split.\n",
        "    target_x_train, target_y_train = (\n",
        "        target_train_df.iloc[:, 1:8],\n",
        "        target_train_df.iloc[:, 8:15][target],\n",
        "    )\n",
        "    target_x_test, target_y_test = (\n",
        "        target_test_df.iloc[:, 1:8],\n",
        "        target_test_df.iloc[:, 8:15][target],\n",
        "    )\n",
        "\n",
        "    # Create classifier.\n",
        "    target_clf = DecisionTreeClassifier()\n",
        "\n",
        "    # Train model with data specified for target.\n",
        "    target_clf.fit(target_x_train, target_y_train)\n",
        "    models[target] = target_clf\n",
        "\n",
        "    # Evaluate trained classifier.\n",
        "    target_y_predictions = target_clf.predict(target_x_test)\n",
        "\n",
        "    # Calculate metrics.\n",
        "    accuracy = accuracy_score(target_y_test, target_y_predictions)\n",
        "    precision = precision_score(target_y_test, target_y_predictions)\n",
        "    recall = recall_score(target_y_test, target_y_predictions)\n",
        "    f1 = f1_score(target_y_test, target_y_predictions)\n",
        "\n",
        "    metrics[target] = {\n",
        "        \"accuracy\": accuracy,\n",
        "        \"precision\": precision,\n",
        "        \"recall\": recall,\n",
        "        \"f1_score\": f1,\n",
        "    }\n",
        "\n",
        "models, metrics"
      ]
    },
    {
      "cell_type": "markdown",
      "metadata": {
        "id": "TSRrInuBIMiJ"
      },
      "source": [
        "## K-NN"
      ]
    },
    {
      "cell_type": "code",
      "execution_count": null,
      "metadata": {
        "id": "wonuPZh2IMiJ"
      },
      "outputs": [],
      "source": [
        "models = {}\n",
        "metrics = {}\n",
        "\n",
        "for target in df.iloc[:, 8:15].columns:\n",
        "    # Get train and test data splits, stratisfy for target.\n",
        "    target_train_df, target_test_df = train_test_split(\n",
        "        df, train_size=0.8, shuffle=True, stratify=df[target], random_state=0\n",
        "    )\n",
        "\n",
        "    # Get input and target from the data split.\n",
        "    target_x_train, target_y_train = (\n",
        "        target_train_df.iloc[:, 1:8],\n",
        "        target_train_df.iloc[:, 8:15][target],\n",
        "    )\n",
        "    target_x_test, target_y_test = (\n",
        "        target_test_df.iloc[:, 1:8],\n",
        "        target_test_df.iloc[:, 8:15][target],\n",
        "    )\n",
        "\n",
        "    # Create classifier.\n",
        "    target_neigh = KNeighborsClassifier(n_neighbors=5)\n",
        "\n",
        "    # Train model with data specified for target.\n",
        "    target_neigh.fit(target_x_train, target_y_train)\n",
        "    models[target] = target_neigh\n",
        "\n",
        "    # Evaluate trained classifier.\n",
        "    target_y_predictions = models[target].predict(target_x_test)\n",
        "\n",
        "    # Calculate metrics.\n",
        "    accuracy = accuracy_score(target_y_test, target_y_predictions)\n",
        "    precision = precision_score(target_y_test, target_y_predictions)\n",
        "    recall = recall_score(target_y_test, target_y_predictions)\n",
        "    f1 = f1_score(target_y_test, target_y_predictions)\n",
        "\n",
        "    metrics[target] = {\n",
        "        \"accuracy\": accuracy,\n",
        "        \"precision\": precision,\n",
        "        \"recall\": recall,\n",
        "        \"f1_score\": f1,\n",
        "    }\n",
        "\n",
        "models, metrics"
      ]
    },
    {
      "cell_type": "markdown",
      "metadata": {
        "id": "elgaSqkNIMiK"
      },
      "source": [
        "## Random Forest"
      ]
    },
    {
      "cell_type": "markdown",
      "source": [
        "# Anchors"
      ],
      "metadata": {
        "id": "EjOfkuKhpmsc"
      }
    },
    {
      "cell_type": "code",
      "source": [
        "!pip install alibi"
      ],
      "metadata": {
        "id": "LvGpLu_8Bpz0"
      },
      "execution_count": null,
      "outputs": []
    },
    {
      "cell_type": "code",
      "source": [
        "# Import Libraries\n",
        "import numpy as np\n",
        "import pandas as pd\n",
        "from sklearn.ensemble import RandomForestClassifier\n",
        "from sklearn.compose import ColumnTransformer\n",
        "from sklearn.pipeline import Pipeline\n",
        "from sklearn.impute import SimpleImputer\n",
        "from sklearn.metrics import accuracy_score\n",
        "from sklearn.preprocessing import StandardScaler, OneHotEncoder\n",
        "from alibi.explainers import AnchorTabular"
      ],
      "metadata": {
        "id": "6o8du96OByYc"
      },
      "execution_count": null,
      "outputs": []
    },
    {
      "cell_type": "code",
      "source": [
        "class Anchor_cal:\n",
        "  # def __init__(self):\n",
        "\n",
        "  def anchor_explain(self, select_y, test_idx=0, prt = True):\n",
        "    # explain a specific instance\n",
        "    model = models[select_y]\n",
        "    category_map = {}\n",
        "    predict_fn = lambda x: model.predict(x)\n",
        "\n",
        "    explainer = AnchorTabular(predict_fn, feature_names, categorical_names=category_map)\n",
        "\n",
        "    explainer.fit(target_x_train.values)\n",
        "\n",
        "    # default test_idx = 0\n",
        "    class_names = ['0','1']\n",
        "\n",
        "    # we add the split index to the current test index + 1 to get the feature values from the original dataframe\n",
        "    target_x_test.iloc[[test_idx]]\n",
        "\n",
        "\n",
        "    explanation = explainer.explain(target_x_test.values[test_idx], threshold=0.95)\n",
        "\n",
        "    target_x_test.iloc[[test_idx]]\n",
        "\n",
        "    if prt == True:\n",
        "      print('Prediction: ', class_names[explainer.predictor(target_x_test.values[test_idx].reshape(1, -1))[0]])\n",
        "      print('True label: ', class_names[target_y_test.values[test_idx]])\n",
        "      print(target_x_test.values[test_idx])\n",
        "      print('')\n",
        "      print('Anchor: %s' % (' AND '.join(explanation.anchor)))\n",
        "      print('Precision: %.2f' % explanation.precision)\n",
        "      print('Coverage: %.2f' % explanation.coverage)\n",
        "\n",
        "\n",
        "    return explanation.anchor\n",
        "\n",
        "  def anchor_stab(self, select_y, test_idx=0, runtime=10):\n",
        "    # check the stabilty of explanation by anchor on one instance\n",
        "    list_explain = []\n",
        "    num_empty_exp = 0\n",
        "    i = 1\n",
        "    while i <= runtime:\n",
        "      exp_now = Anchor_cal.anchor_explain(self, select_y, test_idx, prt = False)\n",
        "      if exp_now != []:\n",
        "        list_explain.append(str(exp_now[0]))\n",
        "        i += 1\n",
        "      else:\n",
        "        num_empty_exp += 1\n",
        "\n",
        "    diff_exp = set(list_explain)\n",
        "    num_diff_exp = len(set(list_explain))\n",
        "\n",
        "    pre_fidd = num_diff_exp / runtime\n",
        "\n",
        "    print('Runtime: ', runtime)\n",
        "    print('proportion of different explanations: %.2f' % pre_fidd )\n",
        "    # print('Number of empty explanations: ', num_empty_exp)\n",
        "    print('Number of different explanations: ', num_diff_exp)\n",
        "    # print(diff_exp)\n",
        "    # print(len(diff_exp))\n",
        "    # print(list_explain)\n",
        "    return list_explain, pre_fidd, num_diff_exp\n",
        "\n",
        "  # def anchor_vis(self, list_explain):\n",
        "\n"
      ],
      "metadata": {
        "id": "9x7OThLUpmPM"
      },
      "execution_count": null,
      "outputs": []
    },
    {
      "cell_type": "code",
      "source": [
        "import warnings\n",
        "\n",
        "# Ignore all warnings\n",
        "warnings.filterwarnings(\"ignore\")\n",
        "\n",
        "exp_anchor = Anchor_cal()\n",
        "\n",
        "exp_anchor.anchor_explain('Amphet', 0)\n"
      ],
      "metadata": {
        "colab": {
          "base_uri": "https://localhost:8080/"
        },
        "id": "C_1SnoaBYXuL",
        "outputId": "a196de8a-ec2a-43a7-cbe4-1df7c28a263d"
      },
      "execution_count": null,
      "outputs": [
        {
          "output_type": "stream",
          "name": "stdout",
          "text": [
            "Prediction:  0\n",
            "True label:  0\n",
            "[-0.14882  0.00332 -0.84732  0.76096  0.41594 -1.37983 -1.18084]\n",
            "\n",
            "Anchor: E-Score > -0.70\n",
            "Precision: 0.96\n",
            "Coverage: 0.74\n"
          ]
        },
        {
          "output_type": "execute_result",
          "data": {
            "text/plain": [
              "['E-Score > -0.70']"
            ]
          },
          "metadata": {},
          "execution_count": 233
        }
      ]
    },
    {
      "cell_type": "code",
      "source": [
        "list_rum = [10, 50, 100, 500, 1000]\n",
        "list_diff = []\n",
        "list_pro = []\n",
        "for i in list_rum:\n",
        "  list_explain, pre_fidd, num_diff_exp = exp_anchor.anchor_stab('Amphet',\n",
        "                test_idx=0, runtime=i)\n",
        "  list_diff.append(num_diff_exp)\n",
        "  list_pro.append(pre_fidd)"
      ],
      "metadata": {
        "colab": {
          "base_uri": "https://localhost:8080/"
        },
        "id": "i6XkstMuL0XD",
        "outputId": "55540a2c-846a-4245-814b-ca8c513f66c1"
      },
      "execution_count": null,
      "outputs": [
        {
          "output_type": "stream",
          "name": "stdout",
          "text": [
            "proportion of different explanations: 0.70\n",
            "Number of different explanations:  7\n",
            "proportion of different explanations: 0.34\n",
            "Number of different explanations:  17\n",
            "proportion of different explanations: 0.20\n",
            "Number of different explanations:  20\n",
            "proportion of different explanations: 0.04\n",
            "Number of different explanations:  20\n",
            "proportion of different explanations: 0.02\n",
            "Number of different explanations:  21\n"
          ]
        }
      ]
    },
    {
      "cell_type": "code",
      "source": [
        "import matplotlib.pyplot as plt\n",
        "\n",
        "\n",
        "plt.plot(list_rum, list_diff, '*-')\n",
        "\n",
        "\n",
        "plt.title('The number of different generated explanations on various runtime')\n",
        "plt.xlabel('Total runtimes')\n",
        "plt.ylabel('Number of different explanations')\n",
        "plt.xticks(list_rum, list_rum)\n",
        "\n",
        "plt.show()\n"
      ],
      "metadata": {
        "colab": {
          "base_uri": "https://localhost:8080/",
          "height": 493
        },
        "id": "vqGO9re0klpy",
        "outputId": "ffdf2922-fca5-4a09-de62-8548e639cc5f"
      },
      "execution_count": null,
      "outputs": [
        {
          "output_type": "display_data",
          "data": {
            "text/plain": [
              "<Figure size 640x480 with 1 Axes>"
            ],
            "image/png": "[encoded data removed]"
          },
          "metadata": {}
        }
      ]
    },
    {
      "cell_type": "code",
      "source": [
        "plt.plot(list_rum, list_pro, '-*')\n",
        "\n",
        "\n",
        "plt.title('The proportion of different generated explanations on various runtime')\n",
        "plt.xlabel('Total runtimes')\n",
        "plt.ylabel('The proportion of different explanations')\n",
        "\n",
        "\n",
        "plt.show()"
      ],
      "metadata": {
        "colab": {
          "base_uri": "https://localhost:8080/",
          "height": 493
        },
        "id": "4FmAeROcloC_",
        "outputId": "2d40562f-4876-4fea-bcb2-b63a12cdd724"
      },
      "execution_count": null,
      "outputs": [
        {
          "output_type": "display_data",
          "data": {
            "text/plain": [
              "<Figure size 640x480 with 1 Axes>"
            ],
            "image/png": "[encoded data removed]"
          },
          "metadata": {}
        }
      ]
    }
  ],
  "metadata": {
    "kernelspec": {
      "display_name": "XAI",
      "language": "python",
      "name": "python3"
    },
    "language_info": {
      "codemirror_mode": {
        "name": "ipython",
        "version": 3
      },
      "file_extension": ".py",
      "mimetype": "text/x-python",
      "name": "python",
      "nbconvert_exporter": "python",
      "pygments_lexer": "ipython3",
      "version": "3.11.8"
    },
    "colab": {
      "provenance": [],
      "collapsed_sections": [
        "TSRrInuBIMiJ",
        "elgaSqkNIMiK"
      ]
    }
  },
  "nbformat": 4,
  "nbformat_minor": 0
}