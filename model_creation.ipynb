{
 "cells": [
  {
   "cell_type": "markdown",
   "metadata": {},
   "source": [
    "# Model creation"
   ]
  },
  {
   "cell_type": "code",
   "execution_count": 1,
   "metadata": {},
   "outputs": [],
   "source": [
    "import pandas as pd\n",
    "from sklearn.tree import DecisionTreeClassifier\n",
    "from sklearn.model_selection import train_test_split\n",
    "from sklearn.metrics import accuracy_score, precision_score, recall_score, f1_score"
   ]
  },
  {
   "cell_type": "markdown",
   "metadata": {},
   "source": [
    "## Dataset"
   ]
  },
  {
   "cell_type": "code",
   "execution_count": 2,
   "metadata": {},
   "outputs": [
    {
     "data": {
      "text/html": [
       "<div>\n",
       "<style scoped>\n",
       "    .dataframe tbody tr th:only-of-type {\n",
       "        vertical-align: middle;\n",
       "    }\n",
       "\n",
       "    .dataframe tbody tr th {\n",
       "        vertical-align: top;\n",
       "    }\n",
       "\n",
       "    .dataframe thead th {\n",
       "        text-align: right;\n",
       "    }\n",
       "</style>\n",
       "<table border=\"1\" class=\"dataframe\">\n",
       "  <thead>\n",
       "    <tr style=\"text-align: right;\">\n",
       "      <th></th>\n",
       "      <th>idx</th>\n",
       "      <th>1</th>\n",
       "      <th>2</th>\n",
       "      <th>3</th>\n",
       "      <th>4</th>\n",
       "      <th>5</th>\n",
       "      <th>6</th>\n",
       "      <th>7</th>\n",
       "      <th>8</th>\n",
       "      <th>9</th>\n",
       "      <th>10</th>\n",
       "      <th>11</th>\n",
       "      <th>12</th>\n",
       "      <th>13</th>\n",
       "      <th>14</th>\n",
       "    </tr>\n",
       "  </thead>\n",
       "  <tbody>\n",
       "    <tr>\n",
       "      <th>0</th>\n",
       "      <td>1</td>\n",
       "      <td>0.31287</td>\n",
       "      <td>-0.57545</td>\n",
       "      <td>-0.58331</td>\n",
       "      <td>-0.91699</td>\n",
       "      <td>-0.00665</td>\n",
       "      <td>-0.21712</td>\n",
       "      <td>-1.18084</td>\n",
       "      <td>0</td>\n",
       "      <td>0</td>\n",
       "      <td>0</td>\n",
       "      <td>0</td>\n",
       "      <td>0</td>\n",
       "      <td>0</td>\n",
       "      <td>0</td>\n",
       "    </tr>\n",
       "    <tr>\n",
       "      <th>1</th>\n",
       "      <td>2</td>\n",
       "      <td>-0.67825</td>\n",
       "      <td>1.93886</td>\n",
       "      <td>1.43533</td>\n",
       "      <td>0.76096</td>\n",
       "      <td>-0.14277</td>\n",
       "      <td>-0.71126</td>\n",
       "      <td>-0.21575</td>\n",
       "      <td>0</td>\n",
       "      <td>0</td>\n",
       "      <td>0</td>\n",
       "      <td>0</td>\n",
       "      <td>0</td>\n",
       "      <td>0</td>\n",
       "      <td>0</td>\n",
       "    </tr>\n",
       "    <tr>\n",
       "      <th>2</th>\n",
       "      <td>3</td>\n",
       "      <td>-0.46725</td>\n",
       "      <td>0.80523</td>\n",
       "      <td>-0.84732</td>\n",
       "      <td>-1.62090</td>\n",
       "      <td>-1.01450</td>\n",
       "      <td>-1.37983</td>\n",
       "      <td>0.40148</td>\n",
       "      <td>0</td>\n",
       "      <td>0</td>\n",
       "      <td>0</td>\n",
       "      <td>0</td>\n",
       "      <td>0</td>\n",
       "      <td>0</td>\n",
       "      <td>0</td>\n",
       "    </tr>\n",
       "    <tr>\n",
       "      <th>3</th>\n",
       "      <td>4</td>\n",
       "      <td>-0.14882</td>\n",
       "      <td>-0.80615</td>\n",
       "      <td>-0.01928</td>\n",
       "      <td>0.59042</td>\n",
       "      <td>0.58489</td>\n",
       "      <td>-1.37983</td>\n",
       "      <td>-1.18084</td>\n",
       "      <td>0</td>\n",
       "      <td>0</td>\n",
       "      <td>0</td>\n",
       "      <td>0</td>\n",
       "      <td>0</td>\n",
       "      <td>0</td>\n",
       "      <td>0</td>\n",
       "    </tr>\n",
       "    <tr>\n",
       "      <th>4</th>\n",
       "      <td>5</td>\n",
       "      <td>0.73545</td>\n",
       "      <td>-1.63340</td>\n",
       "      <td>-0.45174</td>\n",
       "      <td>-0.30172</td>\n",
       "      <td>1.30612</td>\n",
       "      <td>-0.21712</td>\n",
       "      <td>-0.21575</td>\n",
       "      <td>0</td>\n",
       "      <td>0</td>\n",
       "      <td>0</td>\n",
       "      <td>0</td>\n",
       "      <td>0</td>\n",
       "      <td>0</td>\n",
       "      <td>0</td>\n",
       "    </tr>\n",
       "  </tbody>\n",
       "</table>\n",
       "</div>"
      ],
      "text/plain": [
       "   idx        1        2        3        4        5        6        7  8  9  \\\n",
       "0    1  0.31287 -0.57545 -0.58331 -0.91699 -0.00665 -0.21712 -1.18084  0  0   \n",
       "1    2 -0.67825  1.93886  1.43533  0.76096 -0.14277 -0.71126 -0.21575  0  0   \n",
       "2    3 -0.46725  0.80523 -0.84732 -1.62090 -1.01450 -1.37983  0.40148  0  0   \n",
       "3    4 -0.14882 -0.80615 -0.01928  0.59042  0.58489 -1.37983 -1.18084  0  0   \n",
       "4    5  0.73545 -1.63340 -0.45174 -0.30172  1.30612 -0.21712 -0.21575  0  0   \n",
       "\n",
       "   10  11  12  13  14  \n",
       "0   0   0   0   0   0  \n",
       "1   0   0   0   0   0  \n",
       "2   0   0   0   0   0  \n",
       "3   0   0   0   0   0  \n",
       "4   0   0   0   0   0  "
      ]
     },
     "execution_count": 2,
     "metadata": {},
     "output_type": "execute_result"
    }
   ],
   "source": [
    "df = pd.read_csv(\"drug_consumption_2.txt\", header=None, names=[\"idx\", 1, 2, 3, 4, 5, 6, 7, 8, 9, 10, 11, 12, 13, 14]) # TODO: Rename other columns.\n",
    "\n",
    "df.head()"
   ]
  },
  {
   "cell_type": "code",
   "execution_count": 3,
   "metadata": {},
   "outputs": [],
   "source": [
    "train_df, test_df = train_test_split(df, train_size=0.8, random_state=0)"
   ]
  },
  {
   "cell_type": "code",
   "execution_count": 4,
   "metadata": {},
   "outputs": [
    {
     "name": "stdout",
     "output_type": "stream",
     "text": [
      "<class 'pandas.core.frame.DataFrame'>\n",
      "Index: 1508 entries, 840 to 684\n",
      "Data columns (total 15 columns):\n",
      " #   Column  Non-Null Count  Dtype  \n",
      "---  ------  --------------  -----  \n",
      " 0   idx     1508 non-null   int64  \n",
      " 1   1       1508 non-null   float64\n",
      " 2   2       1508 non-null   float64\n",
      " 3   3       1508 non-null   float64\n",
      " 4   4       1508 non-null   float64\n",
      " 5   5       1508 non-null   float64\n",
      " 6   6       1508 non-null   float64\n",
      " 7   7       1508 non-null   float64\n",
      " 8   8       1508 non-null   int64  \n",
      " 9   9       1508 non-null   int64  \n",
      " 10  10      1508 non-null   int64  \n",
      " 11  11      1508 non-null   int64  \n",
      " 12  12      1508 non-null   int64  \n",
      " 13  13      1508 non-null   int64  \n",
      " 14  14      1508 non-null   int64  \n",
      "dtypes: float64(7), int64(8)\n",
      "memory usage: 188.5 KB\n",
      "<class 'pandas.core.frame.DataFrame'>\n",
      "Index: 377 entries, 220 to 616\n",
      "Data columns (total 15 columns):\n",
      " #   Column  Non-Null Count  Dtype  \n",
      "---  ------  --------------  -----  \n",
      " 0   idx     377 non-null    int64  \n",
      " 1   1       377 non-null    float64\n",
      " 2   2       377 non-null    float64\n",
      " 3   3       377 non-null    float64\n",
      " 4   4       377 non-null    float64\n",
      " 5   5       377 non-null    float64\n",
      " 6   6       377 non-null    float64\n",
      " 7   7       377 non-null    float64\n",
      " 8   8       377 non-null    int64  \n",
      " 9   9       377 non-null    int64  \n",
      " 10  10      377 non-null    int64  \n",
      " 11  11      377 non-null    int64  \n",
      " 12  12      377 non-null    int64  \n",
      " 13  13      377 non-null    int64  \n",
      " 14  14      377 non-null    int64  \n",
      "dtypes: float64(7), int64(8)\n",
      "memory usage: 47.1 KB\n"
     ]
    },
    {
     "data": {
      "text/plain": [
       "(None, None)"
      ]
     },
     "execution_count": 4,
     "metadata": {},
     "output_type": "execute_result"
    }
   ],
   "source": [
    "train_df.info(), test_df.info()"
   ]
  },
  {
   "cell_type": "code",
   "execution_count": 5,
   "metadata": {},
   "outputs": [
    {
     "data": {
      "text/plain": [
       "(            1        2        3        4        5        6        7\n",
       " 840  -0.67825  0.00332  0.29338  1.81866  1.30612 -0.21712 -0.52593\n",
       " 1317  0.82562  0.96248 -0.17779 -0.30172 -0.27607  1.29221  0.76540\n",
       " 1385  0.62967  0.47617  0.44585 -0.60633 -0.89891  1.29221  0.40148\n",
       " 347  -0.58016  0.32197 -0.45174 -0.15487  0.25953 -0.21712 -1.18084\n",
       " 602  -0.67825 -0.80615 -0.45174 -1.47955  0.12331 -0.71126 -0.21575\n",
       " ...       ...      ...      ...      ...      ...      ...      ...\n",
       " 835  -0.34799  0.32197  0.14143 -1.21213  0.25953  0.19268  0.40148\n",
       " 1216  0.31287  1.28610 -0.17779 -0.76096 -1.01450  0.19268 -0.52593\n",
       " 1653  1.72012 -1.23177 -0.71727 -0.60633  0.12331 -1.37983  0.40148\n",
       " 559   1.02119  0.16767 -0.71727  0.28783  0.41594 -0.71126 -0.52593\n",
       " 684   1.60383  0.96248  1.43533 -0.30172 -0.89891  0.88113  1.22470\n",
       " \n",
       " [1508 rows x 7 columns],\n",
       "       8  9  10  11  12  13  14\n",
       " 840   0  0   1   0   0   0   0\n",
       " 1317  0  0   0   0   0   0   0\n",
       " 1385  0  0   0   0   0   0   0\n",
       " 347   0  0   0   0   0   0   0\n",
       " 602   0  0   0   0   0   0   0\n",
       " ...  .. ..  ..  ..  ..  ..  ..\n",
       " 835   1  0   0   0   0   0   0\n",
       " 1216  0  0   0   0   0   0   0\n",
       " 1653  0  0   0   0   0   0   0\n",
       " 559   0  0   0   0   0   0   0\n",
       " 684   0  0   0   0   0   0   0\n",
       " \n",
       " [1508 rows x 7 columns])"
      ]
     },
     "execution_count": 5,
     "metadata": {},
     "output_type": "execute_result"
    }
   ],
   "source": [
    "x_train, y_train = train_df.iloc[:, 1:8], train_df.iloc[:, 8:15]\n",
    "x_test, y_test = test_df.iloc[:, 1:8], test_df.iloc[:, 8:15]\n",
    "\n",
    "x_train, y_train"
   ]
  },
  {
   "cell_type": "markdown",
   "metadata": {},
   "source": [
    "## Decision Tree"
   ]
  },
  {
   "cell_type": "code",
   "execution_count": 6,
   "metadata": {},
   "outputs": [
    {
     "data": {
      "text/plain": [
       "{8: DecisionTreeClassifier(),\n",
       " 9: DecisionTreeClassifier(),\n",
       " 10: DecisionTreeClassifier(),\n",
       " 11: DecisionTreeClassifier(),\n",
       " 12: DecisionTreeClassifier(),\n",
       " 13: DecisionTreeClassifier(),\n",
       " 14: DecisionTreeClassifier()}"
      ]
     },
     "execution_count": 6,
     "metadata": {},
     "output_type": "execute_result"
    }
   ],
   "source": [
    "# Save classifiers in dictionary.\n",
    "models = {}\n",
    "\n",
    "# Create classifier for each target.\n",
    "for target_column in y_train.columns:\n",
    "    # Create classifier.\n",
    "    target_clf = DecisionTreeClassifier()\n",
    "    \n",
    "    # Save classifier to specific target.\n",
    "    models[target_column] = target_clf\n",
    "    \n",
    "models"
   ]
  },
  {
   "cell_type": "code",
   "execution_count": 7,
   "metadata": {},
   "outputs": [],
   "source": [
    "# Train each model\n",
    "for model in models.keys():\n",
    "    models[model].fit(x_train, y_train[model])"
   ]
  },
  {
   "cell_type": "code",
   "execution_count": 8,
   "metadata": {},
   "outputs": [
    {
     "name": "stderr",
     "output_type": "stream",
     "text": [
      "c:\\Users\\Cédric\\.conda\\envs\\XAI\\Lib\\site-packages\\sklearn\\metrics\\_classification.py:1469: UndefinedMetricWarning: Precision is ill-defined and being set to 0.0 due to no predicted samples. Use `zero_division` parameter to control this behavior.\n",
      "  _warn_prf(average, modifier, msg_start, len(result))\n"
     ]
    },
    {
     "data": {
      "text/plain": [
       "{8: {'accuracy': 0.8938992042440318,\n",
       "  'precision': 0.15,\n",
       "  'recall': 0.11538461538461539,\n",
       "  'f1_score': 0.13043478260869565},\n",
       " 9: {'accuracy': 0.8779840848806366,\n",
       "  'precision': 0.1111111111111111,\n",
       "  'recall': 0.12,\n",
       "  'f1_score': 0.11538461538461538},\n",
       " 10: {'accuracy': 0.6737400530503979,\n",
       "  'precision': 0.32608695652173914,\n",
       "  'recall': 0.32967032967032966,\n",
       "  'f1_score': 0.32786885245901637},\n",
       " 11: {'accuracy': 0.9575596816976127,\n",
       "  'precision': 0.0,\n",
       "  'recall': 0.0,\n",
       "  'f1_score': 0.0},\n",
       " 12: {'accuracy': 0.9973474801061007,\n",
       "  'precision': 0.0,\n",
       "  'recall': 0.0,\n",
       "  'f1_score': 0.0},\n",
       " 13: {'accuracy': 0.9257294429708223,\n",
       "  'precision': 0.1,\n",
       "  'recall': 0.16666666666666666,\n",
       "  'f1_score': 0.125},\n",
       " 14: {'accuracy': 0.986737400530504,\n",
       "  'precision': 0.0,\n",
       "  'recall': 0.0,\n",
       "  'f1_score': 0.0}}"
      ]
     },
     "execution_count": 8,
     "metadata": {},
     "output_type": "execute_result"
    }
   ],
   "source": [
    "# Evaluate each model\n",
    "metrics = {}\n",
    "\n",
    "for target, model in models.items():\n",
    "    y_predictions = model.predict(x_test)\n",
    "    \n",
    "    accuracy = accuracy_score(y_test[target], y_predictions)\n",
    "    precision = precision_score(y_test[target], y_predictions)\n",
    "    recall = recall_score(y_test[target], y_predictions)\n",
    "    f1 = f1_score(y_test[target], y_predictions)\n",
    "    \n",
    "    metrics[target] = {\n",
    "        \"accuracy\": accuracy,\n",
    "        \"precision\": precision,\n",
    "        \"recall\": recall,\n",
    "        \"f1_score\": f1,\n",
    "    }\n",
    "    \n",
    "metrics"
   ]
  },
  {
   "cell_type": "markdown",
   "metadata": {},
   "source": [
    "## K-NN"
   ]
  },
  {
   "cell_type": "code",
   "execution_count": null,
   "metadata": {},
   "outputs": [],
   "source": []
  }
 ],
 "metadata": {
  "kernelspec": {
   "display_name": "XAI",
   "language": "python",
   "name": "python3"
  },
  "language_info": {
   "codemirror_mode": {
    "name": "ipython",
    "version": 3
   },
   "file_extension": ".py",
   "mimetype": "text/x-python",
   "name": "python",
   "nbconvert_exporter": "python",
   "pygments_lexer": "ipython3",
   "version": "3.11.8"
  }
 },
 "nbformat": 4,
 "nbformat_minor": 2
}
