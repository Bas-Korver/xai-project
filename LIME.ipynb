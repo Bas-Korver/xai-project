{
 "cells": [
  {
   "cell_type": "markdown",
   "metadata": {},
   "source": [
    "# Model creation"
   ]
  },
  {
   "cell_type": "code",
   "execution_count": 1,
   "metadata": {
    "ExecuteTime": {
     "end_time": "2024-04-01T21:26:28.538233Z",
     "start_time": "2024-04-01T21:26:24.464232Z"
    }
   },
   "outputs": [],
   "source": [
    "import pandas as pd\n",
    "from sklearn.model_selection import train_test_split\n",
    "import lime\n",
    "import lime.lime_tabular\n",
    "import keras\n",
    "from lime_evaluator import LimeEval\n",
    "import joblib\n",
    "\n",
    "# disable user warnings\n",
    "import warnings\n",
    "\n",
    "warnings.filterwarnings(\"ignore\")"
   ]
  },
  {
   "cell_type": "markdown",
   "metadata": {},
   "source": [
    "## Dataset"
   ]
  },
  {
   "cell_type": "code",
   "execution_count": 2,
   "metadata": {
    "ExecuteTime": {
     "end_time": "2024-04-01T21:26:28.558277Z",
     "start_time": "2024-04-01T21:26:28.539237Z"
    }
   },
   "outputs": [
    {
     "data": {
      "text/plain": "   idx  N-Score  E-Score  O-Score  A-Score  C-Score  Impusiveness  \\\n0    1  0.31287 -0.57545 -0.58331 -0.91699 -0.00665      -0.21712   \n1    2 -0.67825  1.93886  1.43533  0.76096 -0.14277      -0.71126   \n2    3 -0.46725  0.80523 -0.84732 -1.62090 -1.01450      -1.37983   \n3    4 -0.14882 -0.80615 -0.01928  0.59042  0.58489      -1.37983   \n4    5  0.73545 -1.63340 -0.45174 -0.30172  1.30612      -0.21712   \n\n   Sensation seeking  Amphet  Benzo  Cannabis  Heroin  Ketamine  Methadone  \\\n0           -1.18084       0      0         0       0         0          0   \n1           -0.21575       0      0         1       0         0          0   \n2            0.40148       0      0         0       0         0          0   \n3           -1.18084       0      0         0       0         0          0   \n4           -0.21575       0      0         0       0         0          0   \n\n   Semeron  \n0        0  \n1        0  \n2        0  \n3        0  \n4        0  ",
      "text/html": "<div>\n<style scoped>\n    .dataframe tbody tr th:only-of-type {\n        vertical-align: middle;\n    }\n\n    .dataframe tbody tr th {\n        vertical-align: top;\n    }\n\n    .dataframe thead th {\n        text-align: right;\n    }\n</style>\n<table border=\"1\" class=\"dataframe\">\n  <thead>\n    <tr style=\"text-align: right;\">\n      <th></th>\n      <th>idx</th>\n      <th>N-Score</th>\n      <th>E-Score</th>\n      <th>O-Score</th>\n      <th>A-Score</th>\n      <th>C-Score</th>\n      <th>Impusiveness</th>\n      <th>Sensation seeking</th>\n      <th>Amphet</th>\n      <th>Benzo</th>\n      <th>Cannabis</th>\n      <th>Heroin</th>\n      <th>Ketamine</th>\n      <th>Methadone</th>\n      <th>Semeron</th>\n    </tr>\n  </thead>\n  <tbody>\n    <tr>\n      <th>0</th>\n      <td>1</td>\n      <td>0.31287</td>\n      <td>-0.57545</td>\n      <td>-0.58331</td>\n      <td>-0.91699</td>\n      <td>-0.00665</td>\n      <td>-0.21712</td>\n      <td>-1.18084</td>\n      <td>0</td>\n      <td>0</td>\n      <td>0</td>\n      <td>0</td>\n      <td>0</td>\n      <td>0</td>\n      <td>0</td>\n    </tr>\n    <tr>\n      <th>1</th>\n      <td>2</td>\n      <td>-0.67825</td>\n      <td>1.93886</td>\n      <td>1.43533</td>\n      <td>0.76096</td>\n      <td>-0.14277</td>\n      <td>-0.71126</td>\n      <td>-0.21575</td>\n      <td>0</td>\n      <td>0</td>\n      <td>1</td>\n      <td>0</td>\n      <td>0</td>\n      <td>0</td>\n      <td>0</td>\n    </tr>\n    <tr>\n      <th>2</th>\n      <td>3</td>\n      <td>-0.46725</td>\n      <td>0.80523</td>\n      <td>-0.84732</td>\n      <td>-1.62090</td>\n      <td>-1.01450</td>\n      <td>-1.37983</td>\n      <td>0.40148</td>\n      <td>0</td>\n      <td>0</td>\n      <td>0</td>\n      <td>0</td>\n      <td>0</td>\n      <td>0</td>\n      <td>0</td>\n    </tr>\n    <tr>\n      <th>3</th>\n      <td>4</td>\n      <td>-0.14882</td>\n      <td>-0.80615</td>\n      <td>-0.01928</td>\n      <td>0.59042</td>\n      <td>0.58489</td>\n      <td>-1.37983</td>\n      <td>-1.18084</td>\n      <td>0</td>\n      <td>0</td>\n      <td>0</td>\n      <td>0</td>\n      <td>0</td>\n      <td>0</td>\n      <td>0</td>\n    </tr>\n    <tr>\n      <th>4</th>\n      <td>5</td>\n      <td>0.73545</td>\n      <td>-1.63340</td>\n      <td>-0.45174</td>\n      <td>-0.30172</td>\n      <td>1.30612</td>\n      <td>-0.21712</td>\n      <td>-0.21575</td>\n      <td>0</td>\n      <td>0</td>\n      <td>0</td>\n      <td>0</td>\n      <td>0</td>\n      <td>0</td>\n      <td>0</td>\n    </tr>\n  </tbody>\n</table>\n</div>"
     },
     "execution_count": 2,
     "metadata": {},
     "output_type": "execute_result"
    }
   ],
   "source": [
    "df = pd.read_csv(\n",
    "    \"drug_consumption_3.txt\",\n",
    "    header=None,\n",
    "    names=[\n",
    "        \"idx\",\n",
    "        \"N-Score\",\n",
    "        \"E-Score\",\n",
    "        \"O-Score\",\n",
    "        \"A-Score\",\n",
    "        \"C-Score\",\n",
    "        \"Impusiveness\",\n",
    "        \"Sensation seeking\",\n",
    "        \"Amphet\",\n",
    "        \"Benzo\",\n",
    "        \"Cannabis\",\n",
    "        \"Heroin\",\n",
    "        \"Ketamine\",\n",
    "        \"Methadone\",\n",
    "        \"Semeron\",\n",
    "    ],\n",
    ")\n",
    "\n",
    "df.head()"
   ]
  },
  {
   "cell_type": "markdown",
   "metadata": {},
   "source": [
    "## Models"
   ]
  },
  {
   "cell_type": "code",
   "outputs": [
    {
     "ename": "ValueError",
     "evalue": "node array from the pickle has an incompatible dtype:\n- expected: [('left_child', '<i8'), ('right_child', '<i8'), ('feature', '<i8'), ('threshold', '<f8'), ('impurity', '<f8'), ('n_node_samples', '<i8'), ('weighted_n_node_samples', '<f8')]\n- got     : {'names': ['left_child', 'right_child', 'feature', 'threshold', 'impurity', 'n_node_samples', 'weighted_n_node_samples', 'missing_go_to_left'], 'formats': ['<i8', '<i8', '<i8', '<f8', '<f8', '<i8', '<f8', 'u1'], 'offsets': [0, 8, 16, 24, 32, 40, 48, 56], 'itemsize': 64}",
     "output_type": "error",
     "traceback": [
      "\u001B[1;31m---------------------------------------------------------------------------\u001B[0m",
      "\u001B[1;31mValueError\u001B[0m                                Traceback (most recent call last)",
      "Cell \u001B[1;32mIn[3], line 5\u001B[0m\n\u001B[0;32m      2\u001B[0m models \u001B[38;5;241m=\u001B[39m {}\n\u001B[0;32m      3\u001B[0m metrics \u001B[38;5;241m=\u001B[39m {}\n\u001B[1;32m----> 5\u001B[0m model \u001B[38;5;241m=\u001B[39m \u001B[43mjoblib\u001B[49m\u001B[38;5;241;43m.\u001B[39;49m\u001B[43mload\u001B[49m\u001B[43m(\u001B[49m\u001B[38;5;124;43m\"\u001B[39;49m\u001B[38;5;124;43m./models/random_forest_cannabis.joblib\u001B[39;49m\u001B[38;5;124;43m\"\u001B[39;49m\u001B[43m)\u001B[49m\n\u001B[0;32m      7\u001B[0m model\n",
      "File \u001B[1;32m~\\anaconda3\\envs\\xai-project\\Lib\\site-packages\\joblib\\numpy_pickle.py:658\u001B[0m, in \u001B[0;36mload\u001B[1;34m(filename, mmap_mode)\u001B[0m\n\u001B[0;32m    652\u001B[0m             \u001B[38;5;28;01mif\u001B[39;00m \u001B[38;5;28misinstance\u001B[39m(fobj, \u001B[38;5;28mstr\u001B[39m):\n\u001B[0;32m    653\u001B[0m                 \u001B[38;5;66;03m# if the returned file object is a string, this means we\u001B[39;00m\n\u001B[0;32m    654\u001B[0m                 \u001B[38;5;66;03m# try to load a pickle file generated with an version of\u001B[39;00m\n\u001B[0;32m    655\u001B[0m                 \u001B[38;5;66;03m# Joblib so we load it with joblib compatibility function.\u001B[39;00m\n\u001B[0;32m    656\u001B[0m                 \u001B[38;5;28;01mreturn\u001B[39;00m load_compatibility(fobj)\n\u001B[1;32m--> 658\u001B[0m             obj \u001B[38;5;241m=\u001B[39m \u001B[43m_unpickle\u001B[49m\u001B[43m(\u001B[49m\u001B[43mfobj\u001B[49m\u001B[43m,\u001B[49m\u001B[43m \u001B[49m\u001B[43mfilename\u001B[49m\u001B[43m,\u001B[49m\u001B[43m \u001B[49m\u001B[43mmmap_mode\u001B[49m\u001B[43m)\u001B[49m\n\u001B[0;32m    659\u001B[0m \u001B[38;5;28;01mreturn\u001B[39;00m obj\n",
      "File \u001B[1;32m~\\anaconda3\\envs\\xai-project\\Lib\\site-packages\\joblib\\numpy_pickle.py:577\u001B[0m, in \u001B[0;36m_unpickle\u001B[1;34m(fobj, filename, mmap_mode)\u001B[0m\n\u001B[0;32m    575\u001B[0m obj \u001B[38;5;241m=\u001B[39m \u001B[38;5;28;01mNone\u001B[39;00m\n\u001B[0;32m    576\u001B[0m \u001B[38;5;28;01mtry\u001B[39;00m:\n\u001B[1;32m--> 577\u001B[0m     obj \u001B[38;5;241m=\u001B[39m \u001B[43munpickler\u001B[49m\u001B[38;5;241;43m.\u001B[39;49m\u001B[43mload\u001B[49m\u001B[43m(\u001B[49m\u001B[43m)\u001B[49m\n\u001B[0;32m    578\u001B[0m     \u001B[38;5;28;01mif\u001B[39;00m unpickler\u001B[38;5;241m.\u001B[39mcompat_mode:\n\u001B[0;32m    579\u001B[0m         warnings\u001B[38;5;241m.\u001B[39mwarn(\u001B[38;5;124m\"\u001B[39m\u001B[38;5;124mThe file \u001B[39m\u001B[38;5;124m'\u001B[39m\u001B[38;5;132;01m%s\u001B[39;00m\u001B[38;5;124m'\u001B[39m\u001B[38;5;124m has been generated with a \u001B[39m\u001B[38;5;124m\"\u001B[39m\n\u001B[0;32m    580\u001B[0m                       \u001B[38;5;124m\"\u001B[39m\u001B[38;5;124mjoblib version less than 0.10. \u001B[39m\u001B[38;5;124m\"\u001B[39m\n\u001B[0;32m    581\u001B[0m                       \u001B[38;5;124m\"\u001B[39m\u001B[38;5;124mPlease regenerate this pickle file.\u001B[39m\u001B[38;5;124m\"\u001B[39m\n\u001B[0;32m    582\u001B[0m                       \u001B[38;5;241m%\u001B[39m filename,\n\u001B[0;32m    583\u001B[0m                       \u001B[38;5;167;01mDeprecationWarning\u001B[39;00m, stacklevel\u001B[38;5;241m=\u001B[39m\u001B[38;5;241m3\u001B[39m)\n",
      "File \u001B[1;32m~\\anaconda3\\envs\\xai-project\\Lib\\pickle.py:1213\u001B[0m, in \u001B[0;36m_Unpickler.load\u001B[1;34m(self)\u001B[0m\n\u001B[0;32m   1211\u001B[0m             \u001B[38;5;28;01mraise\u001B[39;00m \u001B[38;5;167;01mEOFError\u001B[39;00m\n\u001B[0;32m   1212\u001B[0m         \u001B[38;5;28;01massert\u001B[39;00m \u001B[38;5;28misinstance\u001B[39m(key, bytes_types)\n\u001B[1;32m-> 1213\u001B[0m         \u001B[43mdispatch\u001B[49m\u001B[43m[\u001B[49m\u001B[43mkey\u001B[49m\u001B[43m[\u001B[49m\u001B[38;5;241;43m0\u001B[39;49m\u001B[43m]\u001B[49m\u001B[43m]\u001B[49m\u001B[43m(\u001B[49m\u001B[38;5;28;43mself\u001B[39;49m\u001B[43m)\u001B[49m\n\u001B[0;32m   1214\u001B[0m \u001B[38;5;28;01mexcept\u001B[39;00m _Stop \u001B[38;5;28;01mas\u001B[39;00m stopinst:\n\u001B[0;32m   1215\u001B[0m     \u001B[38;5;28;01mreturn\u001B[39;00m stopinst\u001B[38;5;241m.\u001B[39mvalue\n",
      "File \u001B[1;32m~\\anaconda3\\envs\\xai-project\\Lib\\site-packages\\joblib\\numpy_pickle.py:402\u001B[0m, in \u001B[0;36mNumpyUnpickler.load_build\u001B[1;34m(self)\u001B[0m\n\u001B[0;32m    394\u001B[0m \u001B[38;5;28;01mdef\u001B[39;00m \u001B[38;5;21mload_build\u001B[39m(\u001B[38;5;28mself\u001B[39m):\n\u001B[0;32m    395\u001B[0m \u001B[38;5;250m    \u001B[39m\u001B[38;5;124;03m\"\"\"Called to set the state of a newly created object.\u001B[39;00m\n\u001B[0;32m    396\u001B[0m \n\u001B[0;32m    397\u001B[0m \u001B[38;5;124;03m    We capture it to replace our place-holder objects, NDArrayWrapper or\u001B[39;00m\n\u001B[1;32m   (...)\u001B[0m\n\u001B[0;32m    400\u001B[0m \u001B[38;5;124;03m    NDArrayWrapper is used for backward compatibility with joblib <= 0.9.\u001B[39;00m\n\u001B[0;32m    401\u001B[0m \u001B[38;5;124;03m    \"\"\"\u001B[39;00m\n\u001B[1;32m--> 402\u001B[0m     \u001B[43mUnpickler\u001B[49m\u001B[38;5;241;43m.\u001B[39;49m\u001B[43mload_build\u001B[49m\u001B[43m(\u001B[49m\u001B[38;5;28;43mself\u001B[39;49m\u001B[43m)\u001B[49m\n\u001B[0;32m    404\u001B[0m     \u001B[38;5;66;03m# For backward compatibility, we support NDArrayWrapper objects.\u001B[39;00m\n\u001B[0;32m    405\u001B[0m     \u001B[38;5;28;01mif\u001B[39;00m \u001B[38;5;28misinstance\u001B[39m(\u001B[38;5;28mself\u001B[39m\u001B[38;5;241m.\u001B[39mstack[\u001B[38;5;241m-\u001B[39m\u001B[38;5;241m1\u001B[39m], (NDArrayWrapper, NumpyArrayWrapper)):\n",
      "File \u001B[1;32m~\\anaconda3\\envs\\xai-project\\Lib\\pickle.py:1718\u001B[0m, in \u001B[0;36m_Unpickler.load_build\u001B[1;34m(self)\u001B[0m\n\u001B[0;32m   1716\u001B[0m setstate \u001B[38;5;241m=\u001B[39m \u001B[38;5;28mgetattr\u001B[39m(inst, \u001B[38;5;124m\"\u001B[39m\u001B[38;5;124m__setstate__\u001B[39m\u001B[38;5;124m\"\u001B[39m, \u001B[38;5;28;01mNone\u001B[39;00m)\n\u001B[0;32m   1717\u001B[0m \u001B[38;5;28;01mif\u001B[39;00m setstate \u001B[38;5;129;01mis\u001B[39;00m \u001B[38;5;129;01mnot\u001B[39;00m \u001B[38;5;28;01mNone\u001B[39;00m:\n\u001B[1;32m-> 1718\u001B[0m     setstate(state)\n\u001B[0;32m   1719\u001B[0m     \u001B[38;5;28;01mreturn\u001B[39;00m\n\u001B[0;32m   1720\u001B[0m slotstate \u001B[38;5;241m=\u001B[39m \u001B[38;5;28;01mNone\u001B[39;00m\n",
      "File \u001B[1;32msklearn\\tree\\_tree.pyx:676\u001B[0m, in \u001B[0;36msklearn.tree._tree.Tree.__setstate__\u001B[1;34m()\u001B[0m\n",
      "File \u001B[1;32msklearn\\tree\\_tree.pyx:1364\u001B[0m, in \u001B[0;36msklearn.tree._tree._check_node_ndarray\u001B[1;34m()\u001B[0m\n",
      "\u001B[1;31mValueError\u001B[0m: node array from the pickle has an incompatible dtype:\n- expected: [('left_child', '<i8'), ('right_child', '<i8'), ('feature', '<i8'), ('threshold', '<f8'), ('impurity', '<f8'), ('n_node_samples', '<i8'), ('weighted_n_node_samples', '<f8')]\n- got     : {'names': ['left_child', 'right_child', 'feature', 'threshold', 'impurity', 'n_node_samples', 'weighted_n_node_samples', 'missing_go_to_left'], 'formats': ['<i8', '<i8', '<i8', '<f8', '<f8', '<i8', '<f8', 'u1'], 'offsets': [0, 8, 16, 24, 32, 40, 48, 56], 'itemsize': 64}"
     ]
    }
   ],
   "source": [
    "# load all randomforest joblib models\n",
    "models = {}\n",
    "metrics = {}\n",
    "\n",
    "model = joblib.load(\"./models/random_forest_cannabis.joblib\")\n",
    "\n",
    "model"
   ],
   "metadata": {
    "collapsed": false,
    "ExecuteTime": {
     "end_time": "2024-04-01T21:26:30.170931Z",
     "start_time": "2024-04-01T21:26:28.559287Z"
    }
   },
   "execution_count": 3
  },
  {
   "cell_type": "markdown",
   "source": [
    "# LIME   "
   ],
   "metadata": {
    "collapsed": false
   }
  },
  {
   "cell_type": "code",
   "outputs": [],
   "source": [
    "feature_names = [\n",
    "    \"N-Score\",\n",
    "    \"E-Score\",\n",
    "    \"O-Score\",\n",
    "    \"A-Score\",\n",
    "    \"C-Score\",\n",
    "    \"Impusiveness\",\n",
    "    \"Sensation seeking\",\n",
    "]\n",
    "# X = df[feature_names]"
   ],
   "metadata": {
    "collapsed": false,
    "ExecuteTime": {
     "start_time": "2024-04-01T21:26:30.171936Z"
    }
   },
   "execution_count": null
  },
  {
   "cell_type": "code",
   "outputs": [],
   "source": [
    "def get_lime(model, x_train, x_test):\n",
    "    explainer = lime.lime_tabular.LimeTabularExplainer(\n",
    "        x_train.values,\n",
    "        feature_names=x_train.columns,\n",
    "        class_names=[\"No\", \"Yes\"],\n",
    "        discretize_continuous=True,\n",
    "    )\n",
    "\n",
    "    explanation = explainer.explain_instance(x_test.values[0], model.predict_proba)\n",
    "    return explanation, explainer"
   ],
   "metadata": {
    "collapsed": false,
    "ExecuteTime": {
     "start_time": "2024-04-01T21:26:30.172936Z"
    }
   },
   "execution_count": null
  },
  {
   "cell_type": "code",
   "outputs": [],
   "source": [
    "stab = []\n",
    "\n",
    "# Get train and test data splits, stratisfy for target.\n",
    "target_train_df, target_test_df = train_test_split(\n",
    "    df, train_size=0.8, shuffle=True, stratify=df[\"Cannabis\"], random_state=0\n",
    ")\n",
    "# Get input and target from the data split.\n",
    "target_x_train = target_train_df.iloc[:, 1:8]\n",
    "target_x_test = target_test_df.iloc[:, 1:8]\n",
    "\n",
    "lime_explanations, explainer = get_lime(model, target_x_train, target_x_test)\n",
    "print(f\"Target: cann\")\n",
    "lime_explanations.show_in_notebook(show_table=True)\n",
    "\n",
    "stab.append(\n",
    "    LimeEval.evaluate_stability(target_x_test.values[0], model.predict_proba, explainer)\n",
    ")\n",
    "print(f\"Target: cann done\")"
   ],
   "metadata": {
    "collapsed": false,
    "ExecuteTime": {
     "start_time": "2024-04-01T21:26:30.173937Z"
    }
   },
   "execution_count": null
  },
  {
   "cell_type": "code",
   "outputs": [],
   "source": [],
   "metadata": {
    "collapsed": false,
    "ExecuteTime": {
     "start_time": "2024-04-01T21:26:30.174938Z"
    }
   },
   "execution_count": null
  },
  {
   "cell_type": "markdown",
   "source": [
    "LIME STABILITY"
   ],
   "metadata": {
    "collapsed": false
   }
  },
  {
   "cell_type": "code",
   "outputs": [],
   "source": [
    "print(f\"Target: cannabis\")\n",
    "df0mean = (abs(df)).mean(axis=1)\n",
    "df0mean = pd.DataFrame(df0mean, columns=[\"mean\"])\n",
    "for column in df0mean.columns:\n",
    "    print(f\"    Mean: {df0mean[column].mean()}\")\n",
    "    print(f\"    Std: {df0mean[column].std()}\")\n",
    "    print(f\"    Var: {df0mean[column].var()}\")"
   ],
   "metadata": {
    "collapsed": false,
    "ExecuteTime": {
     "start_time": "2024-04-01T21:26:30.175936Z"
    }
   },
   "execution_count": null
  },
  {
   "cell_type": "code",
   "outputs": [],
   "source": [],
   "metadata": {
    "collapsed": false,
    "ExecuteTime": {
     "start_time": "2024-04-01T21:26:30.176936Z"
    }
   },
   "execution_count": null
  }
 ],
 "metadata": {
  "kernelspec": {
   "display_name": "XAI",
   "language": "python",
   "name": "python3"
  },
  "language_info": {
   "codemirror_mode": {
    "name": "ipython",
    "version": 3
   },
   "file_extension": ".py",
   "mimetype": "text/x-python",
   "name": "python",
   "nbconvert_exporter": "python",
   "pygments_lexer": "ipython3",
   "version": "3.11.8"
  }
 },
 "nbformat": 4,
 "nbformat_minor": 2
}
